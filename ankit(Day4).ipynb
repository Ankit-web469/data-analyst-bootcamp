{
 "cells": [
  {
   "cell_type": "code",
   "execution_count": 1,
   "id": "7385843e-e534-4ea2-8750-bac2de65f04a",
   "metadata": {},
   "outputs": [
    {
     "name": "stdout",
     "output_type": "stream",
     "text": [
      "30.0\n"
     ]
    }
   ],
   "source": [
    "def SI(p,r,t):\n",
    "    si=(p*r*t)/100\n",
    "    print(si)\n",
    "SI(100,10,3)"
   ]
  },
  {
   "cell_type": "code",
   "execution_count": 28,
   "id": "1994f081-da8e-4cd0-9a51-b6b02b2b2dc9",
   "metadata": {},
   "outputs": [
    {
     "name": "stdout",
     "output_type": "stream",
     "text": [
      "1275\n"
     ]
    }
   ],
   "source": [
    "def sum(a,b):\n",
    "    sum=0\n",
    "    for i in range(a,b+1):\n",
    "        sum+=i\n",
    "    print(sum)\n",
    "sum(1,50)"
   ]
  },
  {
   "cell_type": "code",
   "execution_count": 25,
   "id": "70fd95f0-32fd-484b-92af-d963bd2062ce",
   "metadata": {},
   "outputs": [
    {
     "name": "stdout",
     "output_type": "stream",
     "text": [
      "Enter a number: 4\n"
     ]
    },
    {
     "name": "stdout",
     "output_type": "stream",
     "text": [
      "4x1=4\n",
      "4x2=8\n",
      "4x3=12\n",
      "4x4=16\n",
      "4x5=20\n",
      "4x6=24\n",
      "4x7=28\n",
      "4x8=32\n",
      "4x9=36\n",
      "4x10=40\n"
     ]
    }
   ],
   "source": [
    "def table():\n",
    "    n=int(input(\"Enter a number:\"))\n",
    "    for i in range(1,11):\n",
    "        print(f\"{n}x{i}={n * i}\")\n",
    "table()"
   ]
  },
  {
   "cell_type": "code",
   "execution_count": 38,
   "id": "0cd9a6ef-eefc-4e63-bcb7-b683d880dade",
   "metadata": {},
   "outputs": [
    {
     "name": "stdout",
     "output_type": "stream",
     "text": [
      "625\n"
     ]
    }
   ],
   "source": [
    "def sum_odd(a,b):\n",
    "    sum=0\n",
    "    for i in range(a,b+1):\n",
    "        if i%2!=0:\n",
    "            sum+=i\n",
    "    print(sum)\n",
    "sum_odd(1,50)"
   ]
  },
  {
   "cell_type": "code",
   "execution_count": 45,
   "id": "0d3ada4f-24cf-4429-9e38-39d9d60c11b6",
   "metadata": {},
   "outputs": [
    {
     "name": "stdout",
     "output_type": "stream",
     "text": [
      "16\n",
      "22\n"
     ]
    }
   ],
   "source": [
    "def outer(a,b):\n",
    "    c=a+b\n",
    "    print(c)\n",
    "    def inner(a,b):\n",
    "        print(a*b)\n",
    "    inner(11,2)\n",
    "outer(10,6)"
   ]
  },
  {
   "cell_type": "code",
   "execution_count": 49,
   "id": "66c379d4-cdad-42c4-b93d-b9e23287a2f3",
   "metadata": {},
   "outputs": [
    {
     "name": "stdout",
     "output_type": "stream",
     "text": [
      "Enter a number 1\n"
     ]
    },
    {
     "name": "stdout",
     "output_type": "stream",
     "text": [
      "1\n"
     ]
    }
   ],
   "source": [
    "def factorial(n):\n",
    "    if n==1:\n",
    "        return 1\n",
    "    return n*factorial(n-1)\n",
    "n=int(input(\"Enter a number\"))\n",
    "print(factorial(n))"
   ]
  },
  {
   "cell_type": "code",
   "execution_count": 50,
   "id": "0fb54cbf-5e20-4cc2-a77e-999c9eed2b13",
   "metadata": {},
   "outputs": [
    {
     "name": "stdout",
     "output_type": "stream",
     "text": [
      "Enter a string: Tanveer\n"
     ]
    },
    {
     "name": "stdout",
     "output_type": "stream",
     "text": [
      "reevnaT\n"
     ]
    }
   ],
   "source": [
    "def reverse(word):\n",
    "    print(word[::-1])\n",
    "str=str(input(\"Enter a string:\"))\n",
    "reverse(str)"
   ]
  },
  {
   "cell_type": "code",
   "execution_count": 51,
   "id": "68fdc5b2-877d-4f9f-acdf-e1a3db81ad4a",
   "metadata": {},
   "outputs": [
    {
     "name": "stdout",
     "output_type": "stream",
     "text": [
      "Enter First Number: 45\n",
      "Enter Second Number: 0\n"
     ]
    },
    {
     "name": "stdout",
     "output_type": "stream",
     "text": [
      "Error: Cannot divide by zero\n",
      "Program ended. Thank You!\n"
     ]
    }
   ],
   "source": [
    "try:\n",
    "    num1=int(input(\"Enter First Number:\"))\n",
    "    num2=int(input(\"Enter Second Number:\"))\n",
    "    result=num1/num2\n",
    "except ZeroDivisionError:\n",
    "    print(\"Error: Cannot divide by zero\")\n",
    "except ValueError:\n",
    "    print(\"Error: Please enter valid integers only!\")\n",
    "else:\n",
    "    print(\"Result is:\",result)\n",
    "finally:\n",
    "    print(\"Program ended. Thank You!\")"
   ]
  },
  {
   "cell_type": "code",
   "execution_count": 8,
   "id": "d5eac4ea-4696-4a56-8b6c-6615e4c6a450",
   "metadata": {},
   "outputs": [
    {
     "name": "stdout",
     "output_type": "stream",
     "text": [
      "Enter a number 7\n"
     ]
    },
    {
     "data": {
      "text/plain": [
       "49"
      ]
     },
     "execution_count": 8,
     "metadata": {},
     "output_type": "execute_result"
    }
   ],
   "source": [
    "def square(n):\n",
    "    return n*n\n",
    "n=int(input(\"Enter a number\"))\n",
    "square(n)"
   ]
  },
  {
   "cell_type": "code",
   "execution_count": 64,
   "id": "76564998-28de-44ef-806b-287bc4b2011a",
   "metadata": {},
   "outputs": [
    {
     "name": "stdout",
     "output_type": "stream",
     "text": [
      "Enter first number: 74\n",
      "Enter second number: 45\n"
     ]
    },
    {
     "data": {
      "text/plain": [
       "119"
      ]
     },
     "execution_count": 64,
     "metadata": {},
     "output_type": "execute_result"
    }
   ],
   "source": [
    "def add(a,b):\n",
    "    res=a+b\n",
    "    return res\n",
    "num1=int(input(\"Enter first number:\"))\n",
    "num2=int(input(\"Enter second number:\"))\n",
    "add(num1,num2)"
   ]
  },
  {
   "cell_type": "code",
   "execution_count": 62,
   "id": "e7c6dfc9-b1ff-42a4-aa4e-63316af53411",
   "metadata": {},
   "outputs": [
    {
     "name": "stdout",
     "output_type": "stream",
     "text": [
      "Enter a number 12\n"
     ]
    },
    {
     "name": "stdout",
     "output_type": "stream",
     "text": [
      "12 is even\n"
     ]
    }
   ],
   "source": [
    "def even(n):\n",
    "    if n%2==0:\n",
    "        print(n,\"is even\")\n",
    "    else:\n",
    "        print(n,\"is odd\")\n",
    "n=int(input(\"Enter a number\"))\n",
    "even(n)"
   ]
  },
  {
   "cell_type": "code",
   "execution_count": 63,
   "id": "3d27752d-af67-4fc6-9e18-9d4d0e19621b",
   "metadata": {},
   "outputs": [
    {
     "name": "stdout",
     "output_type": "stream",
     "text": [
      "Enter a number 47\n"
     ]
    },
    {
     "name": "stdout",
     "output_type": "stream",
     "text": [
      "258623241511168180642964355153611979969197632389120000000000\n"
     ]
    }
   ],
   "source": [
    "def factorial(n):\n",
    "    if n==1:\n",
    "        return 1\n",
    "    return n*factorial(n-1)\n",
    "n=int(input(\"Enter a number\"))\n",
    "print(factorial(n))"
   ]
  },
  {
   "cell_type": "code",
   "execution_count": 5,
   "id": "e0fc2ac7-7829-4fc6-9249-04449a7e93d5",
   "metadata": {},
   "outputs": [
    {
     "name": "stdout",
     "output_type": "stream",
     "text": [
      "Enter a string: tanveer\n"
     ]
    },
    {
     "ename": "TypeError",
     "evalue": "'str' object is not callable",
     "output_type": "error",
     "traceback": [
      "\u001b[0;31m---------------------------------------------------------------------------\u001b[0m",
      "\u001b[0;31mTypeError\u001b[0m                                 Traceback (most recent call last)",
      "Cell \u001b[0;32mIn[5], line 3\u001b[0m\n\u001b[1;32m      1\u001b[0m \u001b[38;5;28;01mdef\u001b[39;00m \u001b[38;5;21mreverse\u001b[39m(\u001b[38;5;28mstr\u001b[39m):\n\u001b[1;32m      2\u001b[0m     \u001b[38;5;28mprint\u001b[39m(\u001b[38;5;28mstr\u001b[39m[::\u001b[38;5;241m-\u001b[39m\u001b[38;5;241m1\u001b[39m])\n\u001b[0;32m----> 3\u001b[0m \u001b[38;5;28mstr\u001b[39m\u001b[38;5;241m=\u001b[39m\u001b[38;5;28;43mstr\u001b[39;49m\u001b[43m(\u001b[49m\u001b[38;5;28;43minput\u001b[39;49m\u001b[43m(\u001b[49m\u001b[38;5;124;43m\"\u001b[39;49m\u001b[38;5;124;43mEnter a string:\u001b[39;49m\u001b[38;5;124;43m\"\u001b[39;49m\u001b[43m)\u001b[49m\u001b[43m)\u001b[49m\n\u001b[1;32m      4\u001b[0m reverse(\u001b[38;5;28mstr\u001b[39m)\n",
      "\u001b[0;31mTypeError\u001b[0m: 'str' object is not callable"
     ]
    }
   ],
   "source": [
    "def reverse(str):\n",
    "    print(str[::-1])\n",
    "str=str(input(\"Enter a string:\"))\n",
    "reverse(str)"
   ]
  },
  {
   "cell_type": "code",
   "execution_count": 4,
   "id": "4b181515-fcc5-4659-a93a-96b7b5fab4e1",
   "metadata": {},
   "outputs": [
    {
     "data": {
      "text/plain": [
       "function"
      ]
     },
     "execution_count": 4,
     "metadata": {},
     "output_type": "execute_result"
    }
   ],
   "source": [
    "type(lambda x: x)"
   ]
  },
  {
   "cell_type": "code",
   "execution_count": 6,
   "id": "747f9bf1-8c68-4f15-aa1a-0b5da5ba2d6b",
   "metadata": {},
   "outputs": [
    {
     "name": "stdout",
     "output_type": "stream",
     "text": [
      "None\n"
     ]
    }
   ],
   "source": [
    "def foo(): \n",
    "    pass\n",
    "print(foo())"
   ]
  },
  {
   "cell_type": "code",
   "execution_count": 9,
   "id": "ae0e8fa9-64ab-482c-a54d-d949ae28982c",
   "metadata": {},
   "outputs": [
    {
     "data": {
      "text/plain": [
       "3"
      ]
     },
     "execution_count": 9,
     "metadata": {},
     "output_type": "execute_result"
    }
   ],
   "source": [
    "len([1, 2, 3])\n"
   ]
  },
  {
   "cell_type": "code",
   "execution_count": 21,
   "id": "c9f0b0d7-2c26-4932-b3c9-0664f5fceb22",
   "metadata": {},
   "outputs": [
    {
     "data": {
      "text/plain": [
       "11"
      ]
     },
     "execution_count": 21,
     "metadata": {},
     "output_type": "execute_result"
    }
   ],
   "source": [
    "def foo(a, b=1): \n",
    "    return a+b\n",
    "foo(10)"
   ]
  },
  {
   "cell_type": "code",
   "execution_count": 19,
   "id": "4ef2ef77-274a-44ff-9bc7-742bd9975501",
   "metadata": {},
   "outputs": [
    {
     "data": {
      "text/plain": [
       "True"
      ]
     },
     "execution_count": 19,
     "metadata": {},
     "output_type": "execute_result"
    }
   ],
   "source": [
    "bool('1')"
   ]
  },
  {
   "cell_type": "code",
   "execution_count": 37,
   "id": "661d7d2d-6c3c-4498-b8a1-e6ee16ac0361",
   "metadata": {},
   "outputs": [
    {
     "name": "stdout",
     "output_type": "stream",
     "text": [
      "11\n"
     ]
    }
   ],
   "source": [
    "def largest(lst):\n",
    "    largest=lst[0]\n",
    "    for i in lst[1:]:\n",
    "        if i>largest:\n",
    "            largest=i\n",
    "    print(largest)\n",
    "lst=[2,5,1,11,8]\n",
    "largest(lst)"
   ]
  },
  {
   "cell_type": "code",
   "execution_count": 46,
   "id": "c4d48820-2393-41d8-8c22-d73923b04394",
   "metadata": {},
   "outputs": [
    {
     "name": "stdout",
     "output_type": "stream",
     "text": [
      "Enter a number 4\n"
     ]
    },
    {
     "name": "stdout",
     "output_type": "stream",
     "text": [
      "[0, 1, 1, 2]\n"
     ]
    }
   ],
   "source": [
    "def fibonacci(n):\n",
    "    if n<=0:\n",
    "        print(\"None\")\n",
    "    elif n==1:\n",
    "        print(0)\n",
    "    lst=[0,1]\n",
    "    while len(lst)<n:\n",
    "        next=lst[-1]+lst[-2]\n",
    "        lst.append(next)\n",
    "    print(lst)\n",
    "n=int(input(\"Enter a number\"))\n",
    "fibonacci(n)"
   ]
  },
  {
   "cell_type": "code",
   "execution_count": null,
   "id": "c472f468-b8c4-45ac-8c39-7222ccb57c1e",
   "metadata": {},
   "outputs": [],
   "source": [
    "def vowels(str):\n",
    "    vowels=\"aeiouAEIOU\"\n",
    "    count=0\n",
    "    for i in str:\n",
    "        if i in vowels:\n",
    "            count+=1\n",
    "    print(count)\n",
    "str=str(input(\"Enter String\"))\n",
    "vowels(str)"
   ]
  },
  {
   "cell_type": "code",
   "execution_count": 4,
   "id": "2ca1a0e1-fbde-4dd7-9928-44414e65af97",
   "metadata": {},
   "outputs": [
    {
     "name": "stdout",
     "output_type": "stream",
     "text": [
      "True\n",
      "False\n",
      "True\n"
     ]
    }
   ],
   "source": [
    "def is_palindrome(s):\n",
    "    cleaned = ''.join(c.lower() for c in s if c.isalnum())\n",
    "    return cleaned == cleaned[::-1]\n",
    "print(is_palindrome(\"Racecar\"))\n",
    "print(is_palindrome(\"Hello\"))\n",
    "print(is_palindrome(\"A man a plan a canal Panama\"))"
   ]
  },
  {
   "cell_type": "code",
   "execution_count": null,
   "id": "07e3a59b-9b9a-4026-a835-0f70c1b13b92",
   "metadata": {},
   "outputs": [
    {
     "name": "stdout",
     "output_type": "stream",
     "text": [
      "Enter a String rar\n"
     ]
    },
    {
     "name": "stdout",
     "output_type": "stream",
     "text": [
      "True\n"
     ]
    }
   ],
   "source": [
    "def palindrome(word):\n",
    "    if word==word[::-1]:\n",
    "        print(\"True\")\n",
    "    else:\n",
    "        print(\"False\")\n",
    "str=str(input(\"Enter a String\"))\n",
    "palindrome(str)"
   ]
  },
  {
   "cell_type": "code",
   "execution_count": null,
   "id": "c76cdee0-c102-48ff-9e29-a3613be86a23",
   "metadata": {},
   "outputs": [],
   "source": []
  }
 ],
 "metadata": {
  "kernelspec": {
   "display_name": "anaconda-2024.02-py310",
   "language": "python",
   "name": "conda-env-anaconda-2024.02-py310-py"
  },
  "language_info": {
   "codemirror_mode": {
    "name": "ipython",
    "version": 3
   },
   "file_extension": ".py",
   "mimetype": "text/x-python",
   "name": "python",
   "nbconvert_exporter": "python",
   "pygments_lexer": "ipython3",
   "version": "3.10.14"
  }
 },
 "nbformat": 4,
 "nbformat_minor": 5
}
