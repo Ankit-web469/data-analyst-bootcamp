{
 "cells": [
  {
   "cell_type": "code",
   "execution_count": 1,
   "id": "38fa0624-aaa9-4abf-9bc1-05702a32920a",
   "metadata": {},
   "outputs": [],
   "source": [
    "#library management "
   ]
  },
  {
   "cell_type": "code",
   "execution_count": 6,
   "id": "ffb651fb-c5fc-42b3-bdc6-a943c9ab7db2",
   "metadata": {},
   "outputs": [],
   "source": [
    "import sqlite3\n",
    "conn=sqlite3.connect('library.db')\n",
    "cursor=conn.cursor()"
   ]
  },
  {
   "cell_type": "code",
   "execution_count": 8,
   "id": "639684bd-f108-426a-893d-357a54eeff00",
   "metadata": {},
   "outputs": [],
   "source": [
    "cursor.execute('''\n",
    "CREATE TABLE IF NOT EXISTS books (\n",
    "    book_id TEXT PRIMARY KEY,\n",
    "    title TEXT,\n",
    "    author TEXT,\n",
    "    total_copies INTEGER,\n",
    "    available INTEGER\n",
    ")\n",
    "''')\n",
    "\n",
    "cursor.execute('''\n",
    "CREATE TABLE IF NOT EXISTS users (\n",
    "    user_id TEXT PRIMARY KEY,\n",
    "    name TEXT\n",
    ")\n",
    "''')\n",
    "\n",
    "cursor.execute('''\n",
    "CREATE TABLE IF NOT EXISTS transactions (\n",
    "    trans_id INTEGER PRIMARY KEY AUTOINCREMENT,\n",
    "    user_id TEXT,\n",
    "    book_id TEXT,\n",
    "    issue_date TEXT,\n",
    "    return_date TEXT,\n",
    "    FOREIGN KEY(user_id) REFERENCES users(user_id),\n",
    "    FOREIGN KEY(book_id) REFERENCES books(book_id)\n",
    ")\n",
    "''')\n",
    "\n",
    "conn.commit()\n"
   ]
  },
  {
   "cell_type": "code",
   "execution_count": 9,
   "id": "0e9e3021-9d64-4e9e-99d9-003f0bf4ee46",
   "metadata": {},
   "outputs": [],
   "source": [
    "def add_book(book_id, title, author, total):\n",
    "    cursor.execute(\"INSERT INTO books VALUES (?, ?, ?, ?, ?)\", \n",
    "                   (book_id, title, author, total, total))\n",
    "    conn.commit()\n",
    "    print(\"Book added successfully.\")\n"
   ]
  },
  {
   "cell_type": "code",
   "execution_count": 10,
   "id": "fe7d619d-79b5-4f0a-b82e-53420b3cc915",
   "metadata": {},
   "outputs": [],
   "source": [
    "def register_user(user_id, name):\n",
    "    cursor.execute(\"INSERT INTO users VALUES (?, ?)\", (user_id, name))\n",
    "    conn.commit()\n",
    "    print(\"User registered successfully.\")\n"
   ]
  },
  {
   "cell_type": "code",
   "execution_count": 11,
   "id": "47f73616-6b87-4be2-8ea7-667f5990f8f4",
   "metadata": {},
   "outputs": [],
   "source": [
    "import datetime\n",
    "\n",
    "def issue_book(user_id, book_id):\n",
    "    cursor.execute(\"SELECT available FROM books WHERE book_id = ?\", (book_id,))\n",
    "    result = cursor.fetchone()\n",
    "    if result and result[0] > 0:\n",
    "        issue_date = str(datetime.date.today())\n",
    "        cursor.execute(\"INSERT INTO transactions (user_id, book_id, issue_date, return_date) VALUES (?, ?, ?, NULL)\", \n",
    "                       (user_id, book_id, issue_date))\n",
    "        cursor.execute(\"UPDATE books SET available = available - 1 WHERE book_id = ?\", (book_id,))\n",
    "        conn.commit()\n",
    "        print(\"Book issued successfully.\")\n",
    "    else:\n",
    "        print(\"Book not available.\")\n"
   ]
  },
  {
   "cell_type": "code",
   "execution_count": 12,
   "id": "88daf594-6dc8-4a36-aa34-8ae374152e8f",
   "metadata": {},
   "outputs": [],
   "source": [
    "def return_book(user_id, book_id):\n",
    "    return_date = str(datetime.date.today())\n",
    "    cursor.execute(\"\"\"\n",
    "        UPDATE transactions SET return_date = ? \n",
    "        WHERE user_id = ? AND book_id = ? AND return_date IS NULL\n",
    "    \"\"\", (return_date, user_id, book_id))\n",
    "    cursor.execute(\"UPDATE books SET available = available + 1 WHERE book_id = ?\", (book_id,))\n",
    "    conn.commit()\n",
    "    print(\"Book returned successfully.\")\n"
   ]
  },
  {
   "cell_type": "code",
   "execution_count": 13,
   "id": "38cb0a44-a806-463d-8193-a3a6ee1da36b",
   "metadata": {},
   "outputs": [],
   "source": [
    "def view_books():\n",
    "    cursor.execute(\"SELECT * FROM books\")\n",
    "    for row in cursor.fetchall():\n",
    "        print(row)\n"
   ]
  },
  {
   "cell_type": "code",
   "execution_count": 14,
   "id": "89a3b68f-bd2e-4697-bace-d6f00febd79f",
   "metadata": {},
   "outputs": [
    {
     "name": "stdout",
     "output_type": "stream",
     "text": [
      "\n",
      "1. Add Book\n",
      "2. Register User\n",
      "3. Issue Book\n",
      "4. Return Book\n",
      "5. View Books\n",
      "6. Exit\n"
     ]
    },
    {
     "name": "stdin",
     "output_type": "stream",
     "text": [
      "Enter your choice:  1\n",
      "Book ID:  003\n",
      "Title:  twist\n",
      "Author:  ank\n",
      "Total Copies:  2\n"
     ]
    },
    {
     "name": "stdout",
     "output_type": "stream",
     "text": [
      "Book added successfully.\n",
      "\n",
      "1. Add Book\n",
      "2. Register User\n",
      "3. Issue Book\n",
      "4. Return Book\n",
      "5. View Books\n",
      "6. Exit\n"
     ]
    },
    {
     "name": "stdin",
     "output_type": "stream",
     "text": [
      "Enter your choice:  2\n",
      "User ID:  12\n",
      "Name:  ankit\n"
     ]
    },
    {
     "name": "stdout",
     "output_type": "stream",
     "text": [
      "User registered successfully.\n",
      "\n",
      "1. Add Book\n",
      "2. Register User\n",
      "3. Issue Book\n",
      "4. Return Book\n",
      "5. View Books\n",
      "6. Exit\n"
     ]
    },
    {
     "name": "stdin",
     "output_type": "stream",
     "text": [
      "Enter your choice:  3\n",
      "User ID:  ankit\n",
      "Book ID:  003\n"
     ]
    },
    {
     "name": "stdout",
     "output_type": "stream",
     "text": [
      "Book issued successfully.\n",
      "\n",
      "1. Add Book\n",
      "2. Register User\n",
      "3. Issue Book\n",
      "4. Return Book\n",
      "5. View Books\n",
      "6. Exit\n"
     ]
    },
    {
     "name": "stdin",
     "output_type": "stream",
     "text": [
      "Enter your choice:  4\n",
      "User ID:  12\n",
      "Book ID:  003\n"
     ]
    },
    {
     "name": "stdout",
     "output_type": "stream",
     "text": [
      "Book returned successfully.\n",
      "\n",
      "1. Add Book\n",
      "2. Register User\n",
      "3. Issue Book\n",
      "4. Return Book\n",
      "5. View Books\n",
      "6. Exit\n"
     ]
    },
    {
     "name": "stdin",
     "output_type": "stream",
     "text": [
      "Enter your choice:  5\n"
     ]
    },
    {
     "name": "stdout",
     "output_type": "stream",
     "text": [
      "('003', 'twist', 'ank', 2, 2)\n",
      "\n",
      "1. Add Book\n",
      "2. Register User\n",
      "3. Issue Book\n",
      "4. Return Book\n",
      "5. View Books\n",
      "6. Exit\n"
     ]
    },
    {
     "name": "stdin",
     "output_type": "stream",
     "text": [
      "Enter your choice:  6\n"
     ]
    }
   ],
   "source": [
    "while True:\n",
    "    print(\"\\n1. Add Book\\n2. Register User\\n3. Issue Book\\n4. Return Book\\n5. View Books\\n6. Exit\")\n",
    "    choice = input(\"Enter your choice: \")\n",
    "\n",
    "    if choice == '1':\n",
    "        add_book(input(\"Book ID: \"), input(\"Title: \"), input(\"Author: \"), int(input(\"Total Copies: \")))\n",
    "    elif choice == '2':\n",
    "        register_user(input(\"User ID: \"), input(\"Name: \"))\n",
    "    elif choice == '3':\n",
    "        issue_book(input(\"User ID: \"), input(\"Book ID: \"))\n",
    "    elif choice == '4':\n",
    "        return_book(input(\"User ID: \"), input(\"Book ID: \"))\n",
    "    elif choice == '5':\n",
    "        view_books()\n",
    "    elif choice == '6':\n",
    "        break\n",
    "    else:\n",
    "        print(\"Invalid choice.\")\n"
   ]
  },
  {
   "cell_type": "code",
   "execution_count": null,
   "id": "5999f05f-c7c4-4529-803c-78e01253c28d",
   "metadata": {},
   "outputs": [],
   "source": []
  }
 ],
 "metadata": {
  "kernelspec": {
   "display_name": "Python [conda env:base] *",
   "language": "python",
   "name": "conda-base-py"
  },
  "language_info": {
   "codemirror_mode": {
    "name": "ipython",
    "version": 3
   },
   "file_extension": ".py",
   "mimetype": "text/x-python",
   "name": "python",
   "nbconvert_exporter": "python",
   "pygments_lexer": "ipython3",
   "version": "3.13.5"
  }
 },
 "nbformat": 4,
 "nbformat_minor": 5
}
