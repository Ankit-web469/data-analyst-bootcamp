{
 "cells": [
  {
   "cell_type": "code",
   "execution_count": 2,
   "id": "e74f5433-25c9-4bf9-8221-469b2eebd2c7",
   "metadata": {},
   "outputs": [
    {
     "name": "stdout",
     "output_type": "stream",
     "text": [
      "Enter a number 4\n"
     ]
    },
    {
     "name": "stdout",
     "output_type": "stream",
     "text": [
      "4 x 1=4\n",
      "4 x 2=8\n",
      "4 x 3=12\n",
      "4 x 4=16\n",
      "4 x 5=20\n",
      "4 x 6=24\n",
      "4 x 7=28\n",
      "4 x 8=32\n",
      "4 x 9=36\n",
      "4 x 10=40\n"
     ]
    }
   ],
   "source": [
    "num=int(input(\"Enter a number\"))\n",
    "i=1\n",
    "while i<=10:\n",
    "    print(f\"{num} x {i}={num * i}\")\n",
    "    i+=1"
   ]
  },
  {
   "cell_type": "code",
   "execution_count": 1,
   "id": "a4e6e875-df2b-4819-a64f-ac1f74471d7f",
   "metadata": {},
   "outputs": [
    {
     "name": "stdout",
     "output_type": "stream",
     "text": [
      "Enter Q to Exit q\n"
     ]
    },
    {
     "name": "stdout",
     "output_type": "stream",
     "text": [
      "Exited Loop\n"
     ]
    }
   ],
   "source": [
    "while True:\n",
    "    char=input(\"Enter Q to Exit\")\n",
    "    if char=='q':\n",
    "        print(\"Exited Loop\")\n",
    "        break\n",
    "    else:\n",
    "        print(\"you typed:\",char)"
   ]
  },
  {
   "cell_type": "code",
   "execution_count": 2,
   "id": "3efe7338-7401-4eef-ada4-238624690a98",
   "metadata": {},
   "outputs": [
    {
     "name": "stdout",
     "output_type": "stream",
     "text": [
      "Enter Password: 123\n"
     ]
    },
    {
     "name": "stdout",
     "output_type": "stream",
     "text": [
      "Password is Correct\n"
     ]
    }
   ],
   "source": [
    "password='123'\n",
    "attempt=3\n",
    "current=0\n",
    "while current<attempt:\n",
    "    num=str(input(\"Enter Password:\"))\n",
    "    if num==password:\n",
    "        print(\"Password is Correct\")\n",
    "        break\n",
    "    else:\n",
    "        print(\"Wrong Password,Try Again\")\n",
    "        current+=1\n",
    "        if attempt==current:\n",
    "            print(\"Too Many Atteempts\")"
   ]
  },
  {
   "cell_type": "code",
   "execution_count": 4,
   "id": "a1d04c5c-c09b-442c-83de-ada75991b570",
   "metadata": {},
   "outputs": [
    {
     "name": "stdout",
     "output_type": "stream",
     "text": [
      "7 is divisible by 7\n",
      "14 is divisible by 7\n",
      "21 is divisible by 7\n",
      "28 is divisible by 7\n",
      "35 is divisible by 7\n",
      "42 is divisible by 7\n",
      "49 is divisible by 7\n",
      "56 is divisible by 7\n",
      "63 is divisible by 7\n",
      "70 is divisible by 7\n",
      "77 is divisible by 7\n",
      "84 is divisible by 7\n",
      "91 is divisible by 7\n",
      "98 is divisible by 7\n"
     ]
    }
   ],
   "source": [
    "i=1\n",
    "while i<=100:\n",
    "    if i%7==0:\n",
    "        print(i,\"is divisible by 7\")\n",
    "    i+=1"
   ]
  },
  {
   "cell_type": "code",
   "execution_count": 5,
   "id": "9cbc42de-d5af-41e2-b800-5d9a44bdc2af",
   "metadata": {},
   "outputs": [
    {
     "name": "stdout",
     "output_type": "stream",
     "text": [
      "Enter a number: 3\n"
     ]
    },
    {
     "name": "stdout",
     "output_type": "stream",
     "text": [
      "3x1=3\n",
      "3x2=6\n",
      "3x3=9\n",
      "3x4=12\n",
      "3x5=15\n",
      "3x6=18\n",
      "3x7=21\n",
      "3x8=24\n",
      "3x9=27\n",
      "3x10=30\n"
     ]
    }
   ],
   "source": [
    "num=int(input(\"Enter a number:\"))\n",
    "for i in range(1,11):\n",
    "    print(f\"{num}x{i}={num * i}\")"
   ]
  },
  {
   "cell_type": "code",
   "execution_count": null,
   "id": "7ff72531-2089-402d-95fd-40f06c0341f9",
   "metadata": {},
   "outputs": [
    {
     "name": "stdout",
     "output_type": "stream",
     "text": [
      "Enter password: 456\n"
     ]
    },
    {
     "name": "stdout",
     "output_type": "stream",
     "text": [
      "Password is Incorrect\n"
     ]
    }
   ],
   "source": [
    "password='123'\n",
    "attempt=3\n",
    "current=0\n",
    "for i in range (1,4):\n",
    "    num=str(input(\"Enter password:\"))\n",
    "    if num==password:\n",
    "        print(\"Password is Correct\")\n",
    "        break\n",
    "    else:\n",
    "        print(\"Password is Incorrect\")\n",
    "        current+=1\n",
    "        if attempt==current:\n",
    "            print(\"Too Many Attempts\")"
   ]
  },
  {
   "cell_type": "code",
   "execution_count": 10,
   "id": "a1b5dcc0-fb9b-4e5e-b6f6-1f40814572af",
   "metadata": {},
   "outputs": [
    {
     "name": "stdout",
     "output_type": "stream",
     "text": [
      "1\n",
      "2\n",
      "3\n",
      "4\n",
      "6\n",
      "7\n"
     ]
    }
   ],
   "source": [
    "for i in range(1, 11):\n",
    "    if i==5:\n",
    "        continue\n",
    "    elif i==8:\n",
    "        break\n",
    "    else:\n",
    "        print(i)"
   ]
  },
  {
   "cell_type": "code",
   "execution_count": null,
   "id": "19519730-e089-4f4f-8246-ae3052ffb1a9",
   "metadata": {},
   "outputs": [],
   "source": [
    "password='123'\n",
    "attempt=5\n",
    "current=0\n",
    "for i in range (6):\n",
    "    num=str(input(\"Enter password:\"))\n",
    "    if num==password:\n",
    "        print(\"Password is Correct\")\n",
    "        break\n",
    "    elif num=='forget':\n",
    "        continue\n",
    "    else:\n",
    "        print(\"Password is Incorrect\")\n",
    "        current+=1\n",
    "        if attempt==current:\n",
    "            print(\"Too Many Attempts\")"
   ]
  },
  {
   "cell_type": "code",
   "execution_count": 2,
   "id": "e3defe5a-7c4a-403b-818b-8afaaf9b7a75",
   "metadata": {},
   "outputs": [
    {
     "name": "stdout",
     "output_type": "stream",
     "text": [
      "Enter a char n\n"
     ]
    },
    {
     "name": "stdout",
     "output_type": "stream",
     "text": [
      "loop exited\n"
     ]
    }
   ],
   "source": [
    "for i in range(1, 11):\n",
    "    num=str(input(\"Enter a char\"))\n",
    "    if num=='o':\n",
    "        continue\n",
    "    elif num=='n':\n",
    "        print(\"loop exited\")\n",
    "        break\n",
    "    else:\n",
    "        print(num)\n"
   ]
  },
  {
   "cell_type": "code",
   "execution_count": 3,
   "id": "c4bbc724-e15f-4bbf-b68f-cfd930b32514",
   "metadata": {},
   "outputs": [
    {
     "name": "stdout",
     "output_type": "stream",
     "text": [
      "Hello World\n"
     ]
    }
   ],
   "source": [
    "def tanveer():\n",
    "    print(\"Hello World\")\n",
    "tanveer()"
   ]
  },
  {
   "cell_type": "code",
   "execution_count": 6,
   "id": "2bf753d4-ca8d-4291-9f9d-f5a075effaf2",
   "metadata": {},
   "outputs": [
    {
     "name": "stdout",
     "output_type": "stream",
     "text": [
      "Sum of 1 and 3  is = 4\n"
     ]
    }
   ],
   "source": [
    "def add(num1,num2):\n",
    "    sum=num1+num2\n",
    "    print(\"Sum of\",num1,\"and\",num2,\" is =\",sum)\n",
    "add(1,3)"
   ]
  },
  {
   "cell_type": "code",
   "execution_count": 2,
   "id": "6a802b15-d6e1-4af2-8b15-01b794015cf1",
   "metadata": {},
   "outputs": [
    {
     "name": "stdout",
     "output_type": "stream",
     "text": [
      "mar\n"
     ]
    }
   ],
   "source": [
    "def reverse(word):\n",
    "    print(word[::-1])\n",
    "reverse(\"ram\")"
   ]
  },
  {
   "cell_type": "code",
   "execution_count": 3,
   "id": "5aac2392-a260-49ea-b176-f4c55587a757",
   "metadata": {},
   "outputs": [
    {
     "ename": "SyntaxError",
     "evalue": "invalid syntax (988460046.py, line 3)",
     "output_type": "error",
     "traceback": [
      "\u001b[0;36m  Cell \u001b[0;32mIn[3], line 3\u001b[0;36m\u001b[0m\n\u001b[0;31m    where x=0\u001b[0m\n\u001b[0m          ^\u001b[0m\n\u001b[0;31mSyntaxError\u001b[0m\u001b[0;31m:\u001b[0m invalid syntax\n"
     ]
    }
   ],
   "source": [
    "if x: \n",
    "    print('Hello') \n",
    "    where x=0"
   ]
  },
  {
   "cell_type": "code",
   "execution_count": 4,
   "id": "cbe7d7d0-5ad9-4baa-8548-2d9d29c5d348",
   "metadata": {},
   "outputs": [
    {
     "ename": "SyntaxError",
     "evalue": "invalid syntax. Maybe you meant '==' or ':=' instead of '='? (439693588.py, line 1)",
     "output_type": "error",
     "traceback": [
      "\u001b[0;36m  Cell \u001b[0;32mIn[4], line 1\u001b[0;36m\u001b[0m\n\u001b[0;31m    if x=5;\u001b[0m\n\u001b[0m       ^\u001b[0m\n\u001b[0;31mSyntaxError\u001b[0m\u001b[0;31m:\u001b[0m invalid syntax. Maybe you meant '==' or ':=' instead of '='?\n"
     ]
    }
   ],
   "source": [
    "if x=5; \n",
    "elif x==6:\n"
   ]
  },
  {
   "cell_type": "code",
   "execution_count": 9,
   "id": "b09b72ab-3553-496a-934b-a6c985779971",
   "metadata": {},
   "outputs": [
    {
     "name": "stdout",
     "output_type": "stream",
     "text": [
      "1\n",
      "4\n",
      "7\n"
     ]
    }
   ],
   "source": [
    "for i in range(1,10,3) : \n",
    "    print(i)\n",
    "\n"
   ]
  },
  {
   "cell_type": "code",
   "execution_count": 8,
   "id": "b811cf7b-0595-4f5d-af40-35307c8e7831",
   "metadata": {},
   "outputs": [
    {
     "name": "stdout",
     "output_type": "stream",
     "text": [
      "1\n",
      "2\n",
      "3\n"
     ]
    }
   ],
   "source": [
    "for x in [1,2,3]: print(x)"
   ]
  },
  {
   "cell_type": "code",
   "execution_count": 13,
   "id": "e92cda7e-fe33-44b2-8a59-a6e08d306634",
   "metadata": {},
   "outputs": [
    {
     "name": "stdout",
     "output_type": "stream",
     "text": [
      "Yes\n"
     ]
    }
   ],
   "source": [
    "x = 5; \n",
    "if x > 3: print('Yes')\n"
   ]
  },
  {
   "cell_type": "code",
   "execution_count": 14,
   "id": "ecf527c1-6b0e-4d3e-9d33-a1cf6fd4a897",
   "metadata": {},
   "outputs": [
    {
     "name": "stdout",
     "output_type": "stream",
     "text": [
      "Enter First Number 4\n",
      "Enter Second Number 5\n"
     ]
    },
    {
     "name": "stdout",
     "output_type": "stream",
     "text": [
      "Sum of 4 and 5 is equal to 9\n"
     ]
    }
   ],
   "source": [
    "num1=int(input(\"Enter First Number\"))\n",
    "num2=int(input(\"Enter Second Number\"))\n",
    "sum=num1+num2\n",
    "print(\"Sum of\",num1,\"and\",num2,\"is equal to\",sum)"
   ]
  },
  {
   "cell_type": "code",
   "execution_count": 15,
   "id": "d106eb48-adfd-443a-889c-14c4656ccb34",
   "metadata": {},
   "outputs": [
    {
     "name": "stdout",
     "output_type": "stream",
     "text": [
      "Enter a Number 5\n"
     ]
    },
    {
     "name": "stdout",
     "output_type": "stream",
     "text": [
      "The number is odd\n"
     ]
    }
   ],
   "source": [
    "num=int(input(\"Enter a Number\"))\n",
    "if num%2==0:\n",
    "    print(\"The number is even\")\n",
    "else:\n",
    "    print(\"The number is odd\")"
   ]
  },
  {
   "cell_type": "code",
   "execution_count": 16,
   "id": "ef944708-0ddd-46d1-8542-ced8be934536",
   "metadata": {},
   "outputs": [
    {
     "name": "stdout",
     "output_type": "stream",
     "text": [
      "Enter First Number 45\n",
      "Enter Second Number 74\n"
     ]
    },
    {
     "name": "stdout",
     "output_type": "stream",
     "text": [
      "74 is greater\n"
     ]
    }
   ],
   "source": [
    "num1=int(input(\"Enter First Number\"))\n",
    "num2=int(input(\"Enter Second Number\"))\n",
    "if num1>num2:\n",
    "    print(num1,\"is greater\")\n",
    "else:\n",
    "    print(num2,\"is greater\")"
   ]
  },
  {
   "cell_type": "code",
   "execution_count": 17,
   "id": "6150ee97-0ce2-40c3-b8dc-a2ad99df6a2a",
   "metadata": {},
   "outputs": [
    {
     "name": "stdout",
     "output_type": "stream",
     "text": [
      "Enter a Number 4\n"
     ]
    },
    {
     "name": "stdout",
     "output_type": "stream",
     "text": [
      "4 is positive\n"
     ]
    }
   ],
   "source": [
    "num=int(input(\"Enter a Number\"))\n",
    "if num<0:\n",
    "    print(num,\"is negative\")\n",
    "elif num>0:\n",
    "    print(num,\"is positive\")\n",
    "else:\n",
    "    print(num,\"is equal to zero\")"
   ]
  },
  {
   "cell_type": "code",
   "execution_count": 18,
   "id": "2fe5ee5c-4b4c-4e20-acef-ba18b26c75b7",
   "metadata": {},
   "outputs": [
    {
     "name": "stdout",
     "output_type": "stream",
     "text": [
      "1\n",
      "2\n",
      "3\n",
      "4\n",
      "5\n",
      "6\n",
      "7\n",
      "8\n",
      "9\n",
      "10\n"
     ]
    }
   ],
   "source": [
    "i=1\n",
    "while i<11:\n",
    "    print(i)\n",
    "    i+=1"
   ]
  },
  {
   "cell_type": "code",
   "execution_count": 19,
   "id": "be0c7df8-25b7-4369-9517-3bbfde9e92e5",
   "metadata": {},
   "outputs": [
    {
     "name": "stdout",
     "output_type": "stream",
     "text": [
      "Enter a number: 4\n"
     ]
    },
    {
     "name": "stdout",
     "output_type": "stream",
     "text": [
      "4x1=4\n",
      "4x2=8\n",
      "4x3=12\n",
      "4x4=16\n",
      "4x5=20\n",
      "4x6=24\n",
      "4x7=28\n",
      "4x8=32\n",
      "4x9=36\n",
      "4x10=40\n"
     ]
    }
   ],
   "source": [
    "num=int(input(\"Enter a number:\"))\n",
    "for i in range(1,11):\n",
    "    print(f\"{num}x{i}={num * i}\")"
   ]
  },
  {
   "cell_type": "code",
   "execution_count": 22,
   "id": "7af2c1a3-e966-4304-aa81-0c29bec100ab",
   "metadata": {},
   "outputs": [
    {
     "name": "stdout",
     "output_type": "stream",
     "text": [
      "Enter a number: 5\n"
     ]
    },
    {
     "name": "stdout",
     "output_type": "stream",
     "text": [
      "Factorial: 120\n"
     ]
    }
   ],
   "source": [
    "num=int(input(\"Enter a number:\"))\n",
    "fact=1\n",
    "for i in range(1,num+1):\n",
    "    fact*=i\n",
    "print(\"Factorial:\",fact)"
   ]
  },
  {
   "cell_type": "code",
   "execution_count": 26,
   "id": "e9d81a2b-b392-47ac-8e7c-2d08509f9ca2",
   "metadata": {},
   "outputs": [
    {
     "name": "stdout",
     "output_type": "stream",
     "text": [
      "Enter a number: 45\n"
     ]
    },
    {
     "name": "stdout",
     "output_type": "stream",
     "text": [
      "Reversed: 54\n"
     ]
    }
   ],
   "source": [
    "num=int(input(\"Enter a number:\"))\n",
    "rev=0\n",
    "while num>0:\n",
    "    rev=rev*10+num%10\n",
    "    num//=10\n",
    "print(\"Reversed:\",rev)"
   ]
  },
  {
   "cell_type": "code",
   "execution_count": 33,
   "id": "dfe686de-7847-4b4d-9b15-ee62dfae3b3c",
   "metadata": {},
   "outputs": [
    {
     "name": "stdout",
     "output_type": "stream",
     "text": [
      "Enter a string:  aa\n"
     ]
    },
    {
     "ename": "TypeError",
     "evalue": "'int' object is not callable",
     "output_type": "error",
     "traceback": [
      "\u001b[0;31m---------------------------------------------------------------------------\u001b[0m",
      "\u001b[0;31mTypeError\u001b[0m                                 Traceback (most recent call last)",
      "Cell \u001b[0;32mIn[33], line 3\u001b[0m\n\u001b[1;32m      1\u001b[0m \u001b[38;5;28mstr\u001b[39m\u001b[38;5;241m=\u001b[39m\u001b[38;5;28minput\u001b[39m(\u001b[38;5;124m\"\u001b[39m\u001b[38;5;124mEnter a string: \u001b[39m\u001b[38;5;124m\"\u001b[39m)\n\u001b[1;32m      2\u001b[0m vowels \u001b[38;5;241m=\u001b[39m \u001b[38;5;124m\"\u001b[39m\u001b[38;5;124maeiouAEIOU\u001b[39m\u001b[38;5;124m\"\u001b[39m\n\u001b[0;32m----> 3\u001b[0m count \u001b[38;5;241m=\u001b[39m \u001b[38;5;28msum\u001b[39m(\u001b[38;5;241m1\u001b[39m \u001b[38;5;28;01mfor\u001b[39;00m ch \u001b[38;5;129;01min\u001b[39;00m \u001b[38;5;28mstr\u001b[39m \u001b[38;5;28;01mif\u001b[39;00m ch \u001b[38;5;129;01min\u001b[39;00m vowels)\n\u001b[1;32m      4\u001b[0m \u001b[38;5;28mprint\u001b[39m(\u001b[38;5;124m\"\u001b[39m\u001b[38;5;124mVowel count:\u001b[39m\u001b[38;5;124m\"\u001b[39m,count)\n",
      "\u001b[0;31mTypeError\u001b[0m: 'int' object is not callable"
     ]
    }
   ],
   "source": [
    "str=input(\"Enter a string: \")\n",
    "vowels = \"aeiouAEIOU\"\n",
    "count = sum(1 for ch in str if ch in vowels)\n",
    "print(\"Vowel count:\",count)"
   ]
  },
  {
   "cell_type": "code",
   "execution_count": 36,
   "id": "aea52ed0-7855-4079-b12d-670c8d026989",
   "metadata": {},
   "outputs": [
    {
     "name": "stdout",
     "output_type": "stream",
     "text": [
      "Enter a number: 55\n"
     ]
    },
    {
     "name": "stdout",
     "output_type": "stream",
     "text": [
      "Not Prime\n"
     ]
    }
   ],
   "source": [
    "n=int(input(\"Enter a number:\"))\n",
    "if n<2:\n",
    "    print(\"Not Prime\")\n",
    "else:\n",
    "    for i in range(2, int(n**0.5) + 1):\n",
    "        if n%i==0:\n",
    "            print(\"Not Prime\")\n",
    "            break\n",
    "    else:\n",
    "        print(\"Prime\")"
   ]
  },
  {
   "cell_type": "code",
   "execution_count": 48,
   "id": "5e294de4-e6d1-4f1c-9900-37725e6cff62",
   "metadata": {},
   "outputs": [
    {
     "name": "stdout",
     "output_type": "stream",
     "text": [
      "Enter number of terms: 44\n"
     ]
    },
    {
     "name": "stdout",
     "output_type": "stream",
     "text": [
      "0\n",
      "1\n",
      "2\n",
      "4\n",
      "8\n",
      "16\n",
      "32\n",
      "64\n",
      "128\n",
      "256\n",
      "512\n",
      "1024\n",
      "2048\n",
      "4096\n",
      "8192\n",
      "16384\n",
      "32768\n",
      "65536\n",
      "131072\n",
      "262144\n",
      "524288\n",
      "1048576\n",
      "2097152\n",
      "4194304\n",
      "8388608\n",
      "16777216\n",
      "33554432\n",
      "67108864\n",
      "134217728\n",
      "268435456\n",
      "536870912\n",
      "1073741824\n",
      "2147483648\n",
      "4294967296\n",
      "8589934592\n",
      "17179869184\n",
      "34359738368\n",
      "68719476736\n",
      "137438953472\n",
      "274877906944\n",
      "549755813888\n",
      "1099511627776\n",
      "2199023255552\n",
      "4398046511104\n"
     ]
    }
   ],
   "source": [
    "num=int(input(\"Enter number of terms:\"))\n",
    "a=0\n",
    "b=1\n",
    "for i in range(num):\n",
    "    print(a)\n",
    "    a=b\n",
    "    b=a+b"
   ]
  },
  {
   "cell_type": "code",
   "execution_count": 52,
   "id": "af9f636c-6bdc-42f0-9446-0a7cffa4e352",
   "metadata": {},
   "outputs": [
    {
     "name": "stdout",
     "output_type": "stream",
     "text": [
      "Enter numbers: 44\n"
     ]
    },
    {
     "name": "stdout",
     "output_type": "stream",
     "text": [
      "Even numbers: [44]\n"
     ]
    }
   ],
   "source": [
    "lst=[int(x) for x in input(\"Enter numbers:\").split()]\n",
    "evens = [x for x in lst if x % 2 == 0]\n",
    "print(\"Even numbers:\",evens)"
   ]
  },
  {
   "cell_type": "code",
   "execution_count": 53,
   "id": "359278ab-ba97-4f26-8ae1-a50c83e3428c",
   "metadata": {},
   "outputs": [
    {
     "name": "stdout",
     "output_type": "stream",
     "text": [
      "1\n",
      "2\n",
      "3\n",
      "4\n",
      "6\n",
      "7\n"
     ]
    }
   ],
   "source": [
    "for i in range(1, 11):\n",
    "    if i==5:\n",
    "        continue\n",
    "    elif i==8:\n",
    "        break\n",
    "    else:\n",
    "        print(i)"
   ]
  },
  {
   "cell_type": "code",
   "execution_count": null,
   "id": "61ec49f0-7b28-46b3-a55a-975b07eee778",
   "metadata": {},
   "outputs": [],
   "source": []
  }
 ],
 "metadata": {
  "kernelspec": {
   "display_name": "anaconda-panel-2023.05-py310",
   "language": "python",
   "name": "conda-env-anaconda-panel-2023.05-py310-py"
  },
  "language_info": {
   "codemirror_mode": {
    "name": "ipython",
    "version": 3
   },
   "file_extension": ".py",
   "mimetype": "text/x-python",
   "name": "python",
   "nbconvert_exporter": "python",
   "pygments_lexer": "ipython3",
   "version": "3.11.5"
  }
 },
 "nbformat": 4,
 "nbformat_minor": 5
}
