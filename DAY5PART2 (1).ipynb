{
 "cells": [
  {
   "cell_type": "code",
   "execution_count": 4,
   "id": "79729baf-aa0e-4d3f-997a-23becae474b2",
   "metadata": {},
   "outputs": [
    {
     "name": "stdout",
     "output_type": "stream",
     "text": [
      "enter a 10 number\n"
     ]
    },
    {
     "name": "stdin",
     "output_type": "stream",
     "text": [
      "enter number 1: 1\n",
      "enter number 2: 2\n",
      "enter number 3: 3\n",
      "enter number 4: 4\n",
      "enter number 5: 5\n",
      "enter number 6: 6\n",
      "enter number 7: 7\n",
      "enter number 8: 8\n",
      "enter number 9: 9\n",
      "enter number 10: 10\n"
     ]
    },
    {
     "name": "stdout",
     "output_type": "stream",
     "text": [
      "[1, 2, 3, 4, 5, 6, 7, 8, 9, 10]\n",
      "second largest 9\n"
     ]
    }
   ],
   "source": [
    "list=[]\n",
    "print(\"enter a 10 number\")\n",
    "for i  in range(10):\n",
    "    num=int(input(f\"enter number {i+1}:\"))\n",
    "    list.append(num)\n",
    "print(list)\n",
    "list.sort(reverse=\"true\")\n",
    "x=list[1]\n",
    "print(\"second largest\", x)"
   ]
  },
  {
   "cell_type": "code",
   "execution_count": 10,
   "id": "44f42e94-b205-46bf-a66e-e46c3d2851e0",
   "metadata": {},
   "outputs": [
    {
     "name": "stdout",
     "output_type": "stream",
     "text": [
      "[1, 3, 5]\n"
     ]
    }
   ],
   "source": [
    "L=[1,2,3,4,5,6]\n",
    "x=[]\n",
    "for n in L:\n",
    "    if n%2!=0:\n",
    "        x.append(n)\n",
    "print(x)"
   ]
  },
  {
   "cell_type": "code",
   "execution_count": 13,
   "id": "7e0a418d-c3e9-4b22-a18c-82f94a2fce8d",
   "metadata": {},
   "outputs": [
    {
     "name": "stdin",
     "output_type": "stream",
     "text": [
      "enter the name to be removed salim\n"
     ]
    },
    {
     "name": "stdout",
     "output_type": "stream",
     "text": [
      "['ankit', 'akshay', 'salim', 'anshul']\n",
      "salim removed\n",
      "['ankit', 'akshay', 'anshul']\n"
     ]
    }
   ],
   "source": [
    "std=[\"ankit\",\"akshay\",\"salim\",\"anshul\"]\n",
    "name=input(\"enter the name to be removed\")\n",
    "print(std)\n",
    "if name in std :\n",
    "    std.remove(name)\n",
    "    print(name,\"removed\")\n",
    "print(std)"
   ]
  },
  {
   "cell_type": "code",
   "execution_count": 3,
   "id": "57223005-52ea-4c3e-8436-9deffe8da54d",
   "metadata": {},
   "outputs": [
    {
     "name": "stdin",
     "output_type": "stream",
     "text": [
      "enter a number to be seached 2\n"
     ]
    },
    {
     "name": "stdout",
     "output_type": "stream",
     "text": [
      "number found at index 0.removing it.\n",
      "updated [3, 6, 5, 8, 9, 10]\n"
     ]
    }
   ],
   "source": [
    "list=[2,3,6,5,8,9,10]\n",
    "x=int(input(\"enter a number to be seached\"))\n",
    "if x in list:\n",
    "    index=list.index(x)\n",
    "    print(f\"number found at index {index}.removing it.\")\n",
    "    list.remove(x)\n",
    "else:\n",
    "    print(\"number not found\")\n",
    "\n",
    "print(\"updated\", list)"
   ]
  },
  {
   "cell_type": "code",
   "execution_count": 4,
   "id": "87fece87-d300-430a-9608-730c9c99dd02",
   "metadata": {},
   "outputs": [
    {
     "name": "stdout",
     "output_type": "stream",
     "text": [
      "sorted ['apple', 'banana', 'date', 'grape', 'mango']\n"
     ]
    }
   ],
   "source": [
    "fruits=[\"apple\",\"mango\",\"banana\",\"grape\",\"date\"]\n",
    "fruits.sort()\n",
    "print(\"sorted\",fruits)"
   ]
  },
  {
   "cell_type": "code",
   "execution_count": 9,
   "id": "8ed4d9fb-7f0b-4711-986c-f3c262f5f2a0",
   "metadata": {},
   "outputs": [
    {
     "name": "stdout",
     "output_type": "stream",
     "text": [
      "2\n"
     ]
    }
   ],
   "source": [
    "words=[\"python\",\"c++\",\"python\",\"c\",\"Sql\"]\n",
    "count=words.count(\"python\")\n",
    "print(count)"
   ]
  },
  {
   "cell_type": "code",
   "execution_count": 10,
   "id": "cbdc853c-1ff0-41cf-999e-c29056ca5448",
   "metadata": {},
   "outputs": [
    {
     "name": "stdout",
     "output_type": "stream",
     "text": [
      "original [1, 2, 3, 4, 5, 6]\n",
      "copied [1, 2, 3, 4, 5, 6, 7]\n"
     ]
    }
   ],
   "source": [
    "a=[1,2,3,4,5,6]\n",
    "b=a.copy()\n",
    "b.append(7)\n",
    "print(\"original\" ,a)\n",
    "print(\"copied\" ,b)"
   ]
  },
  {
   "cell_type": "code",
   "execution_count": 11,
   "id": "d593c61f-7d5c-4255-8003-502521b50df4",
   "metadata": {},
   "outputs": [
    {
     "name": "stdin",
     "output_type": "stream",
     "text": [
      "enter a number to be inserted in middle 12\n"
     ]
    },
    {
     "name": "stdout",
     "output_type": "stream",
     "text": [
      "inserted  [1, 2, 3, 12, 4, 5, 6, 7]\n"
     ]
    }
   ],
   "source": [
    "list=[1,2,3,4,5,6,7]\n",
    "mid=len(list)//2\n",
    "num=int(input(\"enter a number to be inserted in middle\"))\n",
    "list.insert(mid,num)\n",
    "print(\"inserted \" ,list)\n"
   ]
  },
  {
   "cell_type": "code",
   "execution_count": 12,
   "id": "847303c5-a999-4826-9f36-99f684ef9fe7",
   "metadata": {},
   "outputs": [
    {
     "name": "stdout",
     "output_type": "stream",
     "text": [
      "popped element 7\n",
      "popped element 6\n",
      "popped element 5\n",
      "popped element 4\n",
      "popped element 3\n",
      "popped element 2\n",
      "popped element 1\n",
      "list []\n"
     ]
    }
   ],
   "source": [
    "list=[1,2,3,4,5,6,7]\n",
    "while list:\n",
    "    popped=list.pop()\n",
    "    print(\"popped element\" ,popped)\n",
    "print(\"list\",list)"
   ]
  },
  {
   "cell_type": "code",
   "execution_count": 13,
   "id": "3005193f-3631-4dba-b174-290286eeaf68",
   "metadata": {},
   "outputs": [
    {
     "name": "stdout",
     "output_type": "stream",
     "text": [
      "Unique elements: [1, 3]\n"
     ]
    }
   ],
   "source": [
    "numbers = [1, 2, 2, 3, 4, 4, 5, 5, 5]\n",
    "unique = []\n",
    "for n in numbers:\n",
    "    if numbers.count(n) == 1:\n",
    "        unique.append(n)\n",
    "\n",
    "print(\"Unique elements:\", unique)\n"
   ]
  },
  {
   "cell_type": "code",
   "execution_count": null,
   "id": "a4d8a1d7-6dd2-4262-bce0-350e4be3dbbb",
   "metadata": {},
   "outputs": [],
   "source": []
  }
 ],
 "metadata": {
  "kernelspec": {
   "display_name": "Python [conda env:base] *",
   "language": "python",
   "name": "conda-base-py"
  },
  "language_info": {
   "codemirror_mode": {
    "name": "ipython",
    "version": 3
   },
   "file_extension": ".py",
   "mimetype": "text/x-python",
   "name": "python",
   "nbconvert_exporter": "python",
   "pygments_lexer": "ipython3",
   "version": "3.13.5"
  }
 },
 "nbformat": 4,
 "nbformat_minor": 5
}
