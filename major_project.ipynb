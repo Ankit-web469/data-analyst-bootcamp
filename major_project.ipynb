{
 "cells": [
  {
   "cell_type": "code",
   "execution_count": 35,
   "id": "d03d2618-5a2e-4d91-9d35-d16af7135320",
   "metadata": {},
   "outputs": [],
   "source": [
    "import sqlite3\n",
    "\n",
    "# Database connection\n",
    "conn = sqlite3.connect(\"atm.db\")\n",
    "cur = conn.cursor()\n",
    "\n",
    "# Table create (run once)\n",
    "cur.execute('''\n",
    "CREATE TABLE IF NOT EXISTS accounts (\n",
    "    acc_no INTEGER PRIMARY KEY AUTOINCREMENT,\n",
    "    name TEXT,\n",
    "    pin TEXT,\n",
    "    balance REAL\n",
    ")\n",
    "''')\n",
    "conn.commit()"
   ]
  },
  {
   "cell_type": "code",
   "execution_count": 41,
   "id": "28b6eb7c-a9ce-47cf-b642-7b8de64ab65a",
   "metadata": {},
   "outputs": [
    {
     "name": "stdout",
     "output_type": "stream",
     "text": [
      " Account created successfully!\n"
     ]
    }
   ],
   "source": [
    "def create_account(name, pin, balance,acc_no):\n",
    "    cur.execute(\"INSERT INTO accounts (name, pin, balance,acc_no) VALUES (?, ?, ?,?)\", (name, pin, balance,acc_no))\n",
    "    conn.commit()\n",
    "    print(\" Account created successfully!\")\n",
    "\n",
    "# Example\n",
    "create_account(\"ankit\",\"1234\",\"5000\",\"3997\")"
   ]
  },
  {
   "cell_type": "code",
   "execution_count": 43,
   "id": "4646a16b-7512-4717-9565-249a61ca1595",
   "metadata": {},
   "outputs": [
    {
     "ename": "IndentationError",
     "evalue": "unindent does not match any outer indentation level (<string>, line 9)",
     "output_type": "error",
     "traceback": [
      "\u001b[1;36m  File \u001b[1;32m<string>:9\u001b[1;36m\u001b[0m\n\u001b[1;33m    return None\u001b[0m\n\u001b[1;37m               ^\u001b[0m\n\u001b[1;31mIndentationError\u001b[0m\u001b[1;31m:\u001b[0m unindent does not match any outer indentation level\n"
     ]
    }
   ],
   "source": [
    "def login(acc_no, pin):\n",
    "    cur.execute(\"SELECT * FROM accounts WHERE acc_no=? AND pin=?\", (acc_no, pin))\n",
    "    user = cur.fetchone()\n",
    "    if user:\n",
    "        print(f\" Welcome {user[1]}!\")\n",
    "        return user\n",
    "    else:\n",
    "        print(\" Invalid account number or PIN.\")\n",
    "        return None"
   ]
  },
  {
   "cell_type": "code",
   "execution_count": 44,
   "id": "2e33d8a4-640e-4307-b174-8654c6148080",
   "metadata": {},
   "outputs": [],
   "source": [
    "def check_balance(acc_no):\n",
    "    cur.execute(\"SELECT balance FROM accounts WHERE acc_no=?\", (acc_no,))\n",
    "    balance = cur.fetchone()[0]\n",
    "    print(f\"Current Balance: ₹{balance}\")"
   ]
  },
  {
   "cell_type": "code",
   "execution_count": 45,
   "id": "f43ff691-5599-4817-9616-ffa5c11a9240",
   "metadata": {},
   "outputs": [],
   "source": [
    "def deposit(acc_no, amount):\n",
    "    cur.execute(\"UPDATE accounts SET balance = balance + ? WHERE acc_no=?\", (amount, acc_no))\n",
    "    conn.commit()\n",
    "    print(f\" ₹{amount} deposited successfully.\")\n"
   ]
  },
  {
   "cell_type": "code",
   "execution_count": 46,
   "id": "7fc20eb4-3c23-4eec-8869-924f9ae96c71",
   "metadata": {},
   "outputs": [],
   "source": [
    "def withdraw(acc_no, amount):\n",
    "    cur.execute(\"SELECT balance FROM accounts WHERE acc_no=?\", (acc_no,))\n",
    "    current_balance = cur.fetchone()[0]\n",
    "\n",
    "    if amount > current_balance:\n",
    "        print(\" Insufficient balance!\")\n",
    "    else:\n",
    "        cur.execute(\"UPDATE accounts SET balance = balance - ? WHERE acc_no=?\", (amount, acc_no))\n",
    "        conn.commit()\n",
    "        print(f\" ₹{amount} withdrawn successfully.\")\n"
   ]
  },
  {
   "cell_type": "code",
   "execution_count": 47,
   "id": "ed37ce78-070f-4824-a44d-83731f873e06",
   "metadata": {},
   "outputs": [],
   "source": [
    "def atm_menu():\n",
    "    print(\"===== Welcome to Python ATM =====\")\n",
    "    acc_no = int(input(\"Enter Account Number: \"))\n",
    "    pin = input(\"Enter PIN: \")\n",
    "\n",
    "    user = login(acc_no, pin)\n",
    "    if not user:\n",
    "        return\n",
    "\n",
    "    while True:\n",
    "        print(\"\\n--- Menu ---\")\n",
    "        print(\"1. Check Balance\")\n",
    "        print(\"2. Deposit\")\n",
    "        print(\"3. Withdraw\")\n",
    "        print(\"4. Exit\")\n",
    "        choice = input(\"Enter your choice: \")\n",
    "\n",
    "        if choice == '1':\n",
    "            check_balance(acc_no)\n",
    "        elif choice == '2':\n",
    "            amt = float(input(\"Enter amount to deposit: ₹\"))\n",
    "            deposit(acc_no, amt)\n",
    "        elif choice == '3':\n",
    "            amt = float(input(\"Enter amount to withdraw: ₹\"))\n",
    "            withdraw(acc_no, amt)\n",
    "        elif choice == '4':\n",
    "            print(\" Thank you for using the ATM. Bye!\")\n",
    "            break\n",
    "        else:\n",
    "            print(\"Invalid choice.\")\n"
   ]
  },
  {
   "cell_type": "code",
   "execution_count": null,
   "id": "32bc5c52-4f79-44ff-9496-47611bacfccf",
   "metadata": {},
   "outputs": [
    {
     "name": "stdout",
     "output_type": "stream",
     "text": [
      "===== Welcome to Python ATM =====\n"
     ]
    },
    {
     "name": "stdin",
     "output_type": "stream",
     "text": [
      "Enter Account Number:  3997\n",
      "Enter PIN:  1234\n"
     ]
    },
    {
     "name": "stdout",
     "output_type": "stream",
     "text": [
      
      "\n",
      "--- Menu ---\n",
      "1. Check Balance\n",
      "2. Deposit\n",
      "3. Withdraw\n",
      "4. Exit\n"
     ]
    },
    {
     "name": "stdin",
     "output_type": "stream",
     "text": [
      "Enter your choice:  1\n"
     ]
    },
    {
     "name": "stdout",
     "output_type": "stream",
     "text": [
      "Current Balance: ₹5000.0\n",
      "\n",
      "--- Menu ---\n",
      "1. Check Balance\n",
      "2. Deposit\n",
      "3. Withdraw\n",
      "4. Exit\n"
     ]
    },
    {
     "name": "stdin",
     "output_type": "stream",
     "text": [
      "Enter your choice:  2\n",
      "Enter amount to deposit: ₹ 100\n"
     ]
    },
    {
     "name": "stdout",
     "output_type": "stream",
     "text": [
      " ₹100.0 deposited successfully.\n",
      "\n",
      "--- Menu ---\n",
      "1. Check Balance\n",
      "2. Deposit\n",
      "3. Withdraw\n",
      "4. Exit\n"
     ]
    },
    {
     "name": "stdin",
     "output_type": "stream",
     "text": [
      "Enter your choice:  3\n",
      "Enter amount to withdraw: ₹ 1000\n"
     ]
    },
    {
     "name": "stdout",
     "output_type": "stream",
     "text": [
      " ₹1000.0 withdrawn successfully.\n",
      "\n",
      "--- Menu ---\n",
      "1. Check Balance\n",
      "2. Deposit\n",
      "3. Withdraw\n",
      "4. Exit\n"
     ]
    },
    {
     "name": "stdin",
     "output_type": "stream",
     "text": [
      "Enter your choice:  1\n"
     ]
    },
    {
     "name": "stdout",
     "output_type": "stream",
     "text": [
      "Current Balance: ₹4100.0\n",
      "\n",
      "--- Menu ---\n",
      "1. Check Balance\n",
      "2. Deposit\n",
      "3. Withdraw\n",
      "4. Exit\n"
     ]
    },
    {
     "name": "stdin",
     "output_type": "stream",
     "text": [
      "Enter your choice:  balance\n"
     ]
    },
    {
     "name": "stdout",
     "output_type": "stream",
     "text": [
      "Invalid choice.\n",
      "\n",
      "--- Menu ---\n",
      "1. Check Balance\n",
      "2. Deposit\n",
      "3. Withdraw\n",
      "4. Exit\n"
     ]
    },
    {
     "name": "stdin",
     "output_type": "stream",
     "text": [
      "Enter your choice:  1\n"
     ]
    },
    {
     "name": "stdout",
     "output_type": "stream",
     "text": [
      "Current Balance: ₹4100.0\n",
      "\n",
      "--- Menu ---\n",
      "1. Check Balance\n",
      "2. Deposit\n",
      "3. Withdraw\n",
      "4. Exit\n"
     ]
    }
   ],
   "source": [
    "\n",
    "atm_menu()"
   ]
  },
  {
   "cell_type": "code",
   "execution_count": null,
   "id": "bee80fe6-d237-4e1a-850d-bee3acfd7ced",
   "metadata": {},
   "outputs": [],
   "source": []
  }
 ],
 "metadata": {
  "kernelspec": {
   "display_name": "Python [conda env:base] *",
   "language": "python",
   "name": "conda-base-py"
  },
  "language_info": {
   "codemirror_mode": {
    "name": "ipython",
    "version": 3
   },
   "file_extension": ".py",
   "mimetype": "text/x-python",
   "name": "python",
   "nbconvert_exporter": "python",
   "pygments_lexer": "ipython3",
   "version": "3.13.5"
  }
 },
 "nbformat": 4,
 "nbformat_minor": 5
}
