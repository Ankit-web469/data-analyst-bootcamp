{
 "cells": [
  {
   "cell_type": "code",
   "execution_count": 29,
   "id": "1a726efb-4405-4b67-9eee-3ffb1389c81f",
   "metadata": {},
   "outputs": [
    {
     "name": "stdin",
     "output_type": "stream",
     "text": [
      "Customer Name:  ankit\n",
      "Item Name:  kurkure\n",
      "Quantity:  2\n",
      "Price per item:  12\n",
      "Add more items? (y/n):  n\n"
     ]
    },
    {
     "name": "stdout",
     "output_type": "stream",
     "text": [
      "\n",
      "==== BILL ====\n",
      "Customer: ankit\n",
      "Item        Qty  Price  Total\n",
      "kurkure    2    ₹12.0   ₹24.0\n",
      "-----------------------\n",
      "Total Amount: ₹24.0\n"
     ]
    }
   ],
   "source": [
    "total_amount = 0\n",
    "items = []\n",
    "\n",
    "customer = input(\"Customer Name: \")\n",
    "\n",
    "while True:\n",
    "    name = input(\"Item Name: \")\n",
    "    qty = int(input(\"Quantity: \"))\n",
    "    price = float(input(\"Price per item: \"))\n",
    "    total = qty * price\n",
    "    items.append((name, qty, price, total))\n",
    "    total_amount += total\n",
    "\n",
    "    more = input(\"Add more items? (y/n): \")\n",
    "    if more.lower() != 'y':\n",
    "        break\n",
    "\n",
    "print(\"\\n==== BILL ====\")\n",
    "print(f\"Customer: {customer}\")\n",
    "print(\"Item        Qty  Price  Total\")\n",
    "for name, qty, price, total in items:\n",
    "    print(f\"{name:<10} {qty:<4} ₹{price:<6} ₹{total}\")\n",
    "print(\"-----------------------\")\n",
    "print(f\"Total Amount: ₹{total_amount}\")\n"
   ]
  },
  {
   "cell_type": "code",
   "execution_count": 1,
   "id": "44c48482-64d0-488b-aef2-7c31be0aee57",
   "metadata": {},
   "outputs": [
    {
     "name": "stdout",
     "output_type": "stream",
     "text": [
      "[1 2 3]\n",
      "[[1 2]\n",
      " [3 4]]\n"
     ]
    }
   ],
   "source": [
    "import numpy as np \n",
    "a=np.array([1,2,3])\n",
    "b=np.array([[1,2],[3,4]])\n",
    "print(a)\n",
    "print(b)"
   ]
  },
  {
   "cell_type": "code",
   "execution_count": 4,
   "id": "81ca1573-8f17-4927-85a0-be2aad970727",
   "metadata": {},
   "outputs": [
    {
     "name": "stdout",
     "output_type": "stream",
     "text": [
      "(2, 3)\n",
      "6\n",
      "2\n",
      "int64\n"
     ]
    }
   ],
   "source": [
    "import numpy as np \n",
    "arr=np.array([[1,2,3],[4,5,6]])\n",
    "print(arr.shape)\n",
    "print(arr.size)\n",
    "print(arr.ndim)\n",
    "print(arr.dtype)\n"
   ]
  },
  {
   "cell_type": "code",
   "execution_count": 10,
   "id": "451291ed-2200-4d2c-a061-ae7e340ac6b2",
   "metadata": {},
   "outputs": [
    {
     "name": "stdout",
     "output_type": "stream",
     "text": [
      "[[10 20 30]\n",
      " [40 50 60]]\n"
     ]
    }
   ],
   "source": [
    "arr=np.array([10,20,30,40,50,60])\n",
    "print(arr.reshape(2,3))"
   ]
  },
  {
   "cell_type": "code",
   "execution_count": 16,
   "id": "bcbafac2-8bbe-47ef-aa9b-eab5ded0700e",
   "metadata": {},
   "outputs": [
    {
     "name": "stdout",
     "output_type": "stream",
     "text": [
      "[[0. 0. 0.]\n",
      " [0. 0. 0.]]\n",
      "[[1. 1. 1.]\n",
      " [1. 1. 1.]]\n",
      "[[1. 0. 0.]\n",
      " [0. 1. 0.]\n",
      " [0. 0. 1.]]\n",
      "[[7 7]\n",
      " [7 7]]\n",
      "[1 3 5 7 9]\n",
      "[1.         2.33333333 3.66666667 5.        ]\n"
     ]
    }
   ],
   "source": [
    "arr=np.array([10,20,30,40,50,60])\n",
    "print(np.zeros((2,3)))\n",
    "print(np.ones((2,3)))\n",
    "print(np.eye(3,3))\n",
    "print(np.full((2,2),7))\n",
    "print(np.arange(1,10,2))\n",
    "print(np.linspace(1,5,4))"
   ]
  },
  {
   "cell_type": "code",
   "execution_count": 17,
   "id": "da69468d-0d9d-4c76-8d52-9ee5fe546fcf",
   "metadata": {},
   "outputs": [
    {
     "name": "stdout",
     "output_type": "stream",
     "text": [
      "[5 7 9]\n",
      "[ 4 10 18]\n",
      "[  1  32 729]\n",
      "[1.         1.41421356 1.73205081]\n",
      "2.0\n"
     ]
    }
   ],
   "source": [
    "a=np.array([1,2,3])\n",
    "b=np.array([4,5,6])\n",
    "print(a + b)\n",
    "print(a * b)\n",
    "print(a ** b)\n",
    "print(np.sqrt(a))\n",
    "print(np.mean(a))"
   ]
  },
  {
   "cell_type": "code",
   "execution_count": 19,
   "id": "288d9a7b-ab1a-49d1-84cd-bb7073cc486f",
   "metadata": {},
   "outputs": [
    {
     "name": "stdout",
     "output_type": "stream",
     "text": [
      "21\n",
      "1\n",
      "6\n",
      "[5 7 9]\n",
      "[ 6 15]\n",
      "[[1 4]\n",
      " [2 5]\n",
      " [3 6]]\n"
     ]
    }
   ],
   "source": [
    "a=np.array([[1,2,3],[4,5,6]])\n",
    "print(np.sum(a))\n",
    "print(np.min(a))\n",
    "print(np.max(a))\n",
    "print(np.sum(a,axis=0))\n",
    "print(np.sum(a,axis=1))\n",
    "print(a.T)"
   ]
  },
  {
   "cell_type": "code",
   "execution_count": null,
   "id": "9dc8c5d7-59b1-4fa2-a587-fdb7975186a1",
   "metadata": {},
   "outputs": [],
   "source": []
  }
 ],
 "metadata": {
  "kernelspec": {
   "display_name": "Python [conda env:base] *",
   "language": "python",
   "name": "conda-base-py"
  },
  "language_info": {
   "codemirror_mode": {
    "name": "ipython",
    "version": 3
   },
   "file_extension": ".py",
   "mimetype": "text/x-python",
   "name": "python",
   "nbconvert_exporter": "python",
   "pygments_lexer": "ipython3",
   "version": "3.13.5"
  }
 },
 "nbformat": 4,
 "nbformat_minor": 5
}
