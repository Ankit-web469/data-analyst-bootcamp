{
 "cells": [
  {
   "cell_type": "code",
   "execution_count": 6,
   "id": "35cbcead-aab5-4af6-8573-322c66d68da2",
   "metadata": {},
   "outputs": [
    {
     "name": "stdout",
     "output_type": "stream",
     "text": [
      "<class 'float'>\n"
     ]
    }
   ],
   "source": [
    "x=10\n",
    "y=float(x)\n",
    "print(type(y))"
   ]
  },
  {
   "cell_type": "code",
   "execution_count": 7,
   "id": "01b1e0ce-63a8-4abf-b540-f3b1fc5ead67",
   "metadata": {},
   "outputs": [
    {
     "name": "stdout",
     "output_type": "stream",
     "text": [
      "<class 'float'>\n"
     ]
    }
   ],
   "source": [
    "x=10\n",
    "y=10.5\n",
    "print(type(x+y))"
   ]
  },
  {
   "cell_type": "code",
   "execution_count": 8,
   "id": "07888662-23ec-4b1b-bebe-23eac96c2bac",
   "metadata": {},
   "outputs": [
    {
     "name": "stdin",
     "output_type": "stream",
     "text": [
      "Enter the name of product: Milk\n",
      "Enter Price: 66.5\n",
      "Enter Quantity: 4\n"
     ]
    },
    {
     "name": "stdout",
     "output_type": "stream",
     "text": [
      "Amount to be paid: 266.0\n"
     ]
    }
   ],
   "source": [
    "product_name=input(\"Enter the name of product:\")\n",
    "product_price=float(input(\"Enter Price:\"))\n",
    "product_Quantity=int(input(\"Enter Quantity:\"))\n",
    "Amount=product_price*product_Quantity\n",
    "print(\"Amount to be paid:\",Amount)"
   ]
  },
  {
   "cell_type": "code",
   "execution_count": 9,
   "id": "8eb57bed-4aaf-4211-a9b1-153293eabe42",
   "metadata": {},
   "outputs": [
    {
     "name": "stdout",
     "output_type": "stream",
     "text": [
      "hello\n"
     ]
    }
   ],
   "source": [
    "a=10\n",
    "if a>8:\n",
    "    print(\"hello\")"
   ]
  },
  {
   "cell_type": "code",
   "execution_count": 5,
   "id": "8bc1250d-3fbf-4d81-b621-07d372557217",
   "metadata": {},
   "outputs": [
    {
     "name": "stdin",
     "output_type": "stream",
     "text": [
      "Enter the name of the month Dec\n"
     ]
    },
    {
     "name": "stdout",
     "output_type": "stream",
     "text": [
      "Winter\n"
     ]
    }
   ],
   "source": [
    "month=str(input(\"Enter the name of the month\"))\n",
    "if month=='Jan':\n",
    "   print(\"Winter\")\n",
    "elif month=='Feb':\n",
    "    print(\"Winter\")\n",
    "elif month=='Mar':\n",
    "    print(\"Spring\")\n",
    "elif month=='Apr':\n",
    "    print(\"Spring\")\n",
    "elif month=='May':\n",
    "    print(\"Summer\")\n",
    "elif month=='June':\n",
    "    print(\"Summer\")\n",
    "elif month=='July':\n",
    "    print(\"Summer\")\n",
    "elif month=='Aug':\n",
    "    print(\"Monsoon\")\n",
    "elif month=='Sep':\n",
    "    print(\"Autumn\")\n",
    "elif month=='Oct':\n",
    "    print(\"Autumn\")\n",
    "elif month=='Nov':\n",
    "    print(\"Winter\")\n",
    "elif month=='Dec':\n",
    "    print(\"Winter\")\n",
    "else:\n",
    "    print(\"Invalid Month Name\")"
   ]
  },
  {
   "cell_type": "code",
   "execution_count": 4,
   "id": "70798f9d-a750-4cdb-8693-953e82761c70",
   "metadata": {},
   "outputs": [
    {
     "name": "stdin",
     "output_type": "stream",
     "text": [
      "Enter the name of product Milk\n"
     ]
    },
    {
     "name": "stdout",
     "output_type": "stream",
     "text": [
      "Expiring on 11/7/25\n"
     ]
    }
   ],
   "source": [
    "product=str(input(\"Enter the name of product:\"))\n",
    "if product=='Milk':\n",
    "    print(\"Expiring on 11/7/25\")\n",
    "elif product=='Cured':\n",
    "    print(\"Expiring on 14/7/25\")\n",
    "elif product=='Bread':\n",
    "    print(\"Expiring on 13/7/25\")\n",
    "else:\n",
    "    print(\"Invalid Product\")"
   ]
  },
  {
   "cell_type": "code",
   "execution_count": null,
   "id": "dae6d1ef-ba15-4e30-aea0-d9f05e029fb6",
   "metadata": {},
   "outputs": [],
   "source": []
  }
 ],
 "metadata": {
  "kernelspec": {
   "display_name": "anaconda-2024.02-py310",
   "language": "python",
   "name": "conda-env-anaconda-2024.02-py310-py"
  },
  "language_info": {
   "codemirror_mode": {
    "name": "ipython",
    "version": 3
   },
   "file_extension": ".py",
   "mimetype": "text/x-python",
   "name": "python",
   "nbconvert_exporter": "python",
   "pygments_lexer": "ipython3",
   "version": "3.10.14"
  }
 },
 "nbformat": 4,
 "nbformat_minor": 5
}
