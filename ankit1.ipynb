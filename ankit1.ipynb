{
 "cells": [
  {
   "cell_type": "code",
   "execution_count": 1,
   "id": "058d154f-eea1-47c4-b411-909f2f977153",
   "metadata": {},
   "outputs": [
    {
     "name": "stdin",
     "output_type": "stream",
     "text": [
      "enter the first number 12\n",
      "enter the second number 23\n",
      "enter operator symbols +\n"
     ]
    },
    {
     "name": "stdout",
     "output_type": "stream",
     "text": [
      "35\n"
     ]
    }
   ],
   "source": [
    "a=int(input(\"enter the first number\"))\n",
    "b=int(input(\"enter the second number\"))\n",
    "c=input(\"enter operator symbols\")\n",
    "if c==\"+\":\n",
    "  print(a+b)\n",
    "elif c==\"-\":\n",
    "  print(a-b)\n",
    "elif c==\"*\": \n",
    "  print(a*b)\n",
    "elif c==\"//\":\n",
    "  print(a//b)\n",
    "elif c==\"/\":\n",
    "  print(a/b)\n",
    "else :\n",
    "  print(\"invalid\")"
   ]
  },
  {
   "cell_type": "code",
   "execution_count": 3,
   "id": "3e1ee452-af8e-45b3-b23f-5323a9c0eb71",
   "metadata": {},
   "outputs": [
    {
     "name": "stdin",
     "output_type": "stream",
     "text": [
      "enter the first number 12\n",
      "enter the second number 23\n"
     ]
    },
    {
     "name": "stdout",
     "output_type": "stream",
     "text": [
      "True False\n",
      "True\n"
     ]
    }
   ],
   "source": [
    "a=int(input(\"enter the first number\"))\n",
    "b=int(input(\"enter the second number\"))\n",
    "print(a>10 and b>12,not b)\n",
    "print(a>10 or b>12)\n"
   ]
  },
  {
   "cell_type": "code",
   "execution_count": 4,
   "id": "65b42db6-4c85-4ad1-922b-dcded4f605f3",
   "metadata": {},
   "outputs": [
    {
     "name": "stdout",
     "output_type": "stream",
     "text": [
      "Apple is in the list.\n",
      "Mango is not in the list.\n"
     ]
    }
   ],
   "source": [
    "\n",
    "fruits = [\"apple\", \"banana\", \"cherry\"]\n",
    "\n",
    "\n",
    "if \"apple\" in fruits:\n",
    "    print(\"Apple is in the list.\")\n",
    "\n",
    "\n",
    "if \"mango\" not in fruits:\n",
    "    print(\"Mango is not in the list.\")\n"
   ]
  },
  {
   "cell_type": "code",
   "execution_count": 2,
   "id": "92589917-8b1f-4b8d-97bc-d3c57f8178ab",
   "metadata": {},
   "outputs": [
    {
     "name": "stdout",
     "output_type": "stream",
     "text": [
      "30\n",
      "15\n",
      "225\n",
      "15.0\n"
     ]
    }
   ],
   "source": [
    "a = 15\n",
    "a += 15\n",
    "print(a)\n",
    "\n",
    "a -= 15\n",
    "print(a)\n",
    "\n",
    "a *= 15\n",
    "print(a)\n",
    "\n",
    "a /= 15\n",
    "print(a)\n"
   ]
  },
  {
   "cell_type": "code",
   "execution_count": 3,
   "id": "29da2135-36f9-47d7-9a4c-b43b5fdd4432",
   "metadata": {},
   "outputs": [
    {
     "name": "stdout",
     "output_type": "stream",
     "text": [
      "5\n",
      "-5\n"
     ]
    }
   ],
   "source": [
    "a =+ 5\n",
    "print(a)\n",
    "\n",
    "a = -5\n",
    "print(a)\n",
    "\n",
    "\n"
   ]
  },
  {
   "cell_type": "code",
   "execution_count": 4,
   "id": "71e73986-e498-4a8d-8171-40afa467854a",
   "metadata": {},
   "outputs": [
    {
     "name": "stdout",
     "output_type": "stream",
     "text": [
      "False\n",
      "False\n",
      "False\n",
      "True\n"
     ]
    }
   ],
   "source": [
    "a = 25\n",
    "b = 12;\n",
    "\n",
    "print(a == b)\n",
    "print(a <= b)\n",
    "print(a <= b)\n",
    "print(a != b)\n"
   ]
  },
  {
   "cell_type": "code",
   "execution_count": 5,
   "id": "99a24e00-7fb5-4768-a416-98750b76310c",
   "metadata": {},
   "outputs": [
    {
     "name": "stdout",
     "output_type": "stream",
     "text": [
      "False\n",
      "True\n",
      "True\n"
     ]
    }
   ],
   "source": [
    "print(2 == 2 and 3 == 2)\n",
    "print(2>3 or 2<3)\n",
    "print(not(2>3))"
   ]
  },
  {
   "cell_type": "code",
   "execution_count": 6,
   "id": "3092082e-7af9-4c29-97d0-244dc4347cc8",
   "metadata": {},
   "outputs": [
    {
     "name": "stdout",
     "output_type": "stream",
     "text": [
      "8\n",
      "31\n",
      "-16\n"
     ]
    }
   ],
   "source": [
    "print(15 & 24)\n",
    "print(15 | 24)\n",
    "print(~15)"
   ]
  },
  {
   "cell_type": "code",
   "execution_count": 7,
   "id": "afc62e76-14f4-4813-92f3-b48f3485f236",
   "metadata": {},
   "outputs": [
    {
     "name": "stdout",
     "output_type": "stream",
     "text": [
      "False\n",
      "True\n"
     ]
    }
   ],
   "source": [
    "a = 15\n",
    "b = 26\n",
    "print(a is b)\n",
    "print(a is not b)"
   ]
  },
  {
   "cell_type": "code",
   "execution_count": 8,
   "id": "7a165f36-5562-4ef8-9d54-d51737140d4e",
   "metadata": {},
   "outputs": [
    {
     "name": "stdout",
     "output_type": "stream",
     "text": [
      "False\n",
      "True\n"
     ]
    }
   ],
   "source": [
    "l1 = [1,2,3,4,5]\n",
    "print(22 in l1)\n",
    "print(22 not in l1)"
   ]
  },
  {
   "cell_type": "code",
   "execution_count": null,
   "id": "31e44955-286e-40a9-b74d-4a63ff7ced20",
   "metadata": {},
   "outputs": [],
   "source": []
  }
 ],
 "metadata": {
  "kernelspec": {
   "display_name": "anaconda-ai-2024.04-py310",
   "language": "python",
   "name": "conda-env-anaconda-ai-2024.04-py310-py"
  },
  "language_info": {
   "codemirror_mode": {
    "name": "ipython",
    "version": 3
   },
   "file_extension": ".py",
   "mimetype": "text/x-python",
   "name": "python",
   "nbconvert_exporter": "python",
   "pygments_lexer": "ipython3",
   "version": "3.10.13"
  }
 },
 "nbformat": 4,
 "nbformat_minor": 5
}
