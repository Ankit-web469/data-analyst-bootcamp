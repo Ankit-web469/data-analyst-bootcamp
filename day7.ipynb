{
 "cells": [
  {
   "cell_type": "code",
   "execution_count": 2,
   "id": "9ac8674b-d3ad-4e0b-91eb-9d7b4b10afff",
   "metadata": {},
   "outputs": [],
   "source": [
    "import sqlite3\n",
    "\n",
    "conn = sqlite3.connect('students.db')\n",
    "\n",
    "cursor = conn.cursor()\n"
   ]
  },
  {
   "cell_type": "code",
   "execution_count": 3,
   "id": "68ac195d-e90c-4652-878f-fa6c1f810d73",
   "metadata": {},
   "outputs": [
    {
     "name": "stdout",
     "output_type": "stream",
     "text": [
      "Table created successfully.\n"
     ]
    }
   ],
   "source": [
    "cursor.execute('''\n",
    "CREATE TABLE IF NOT EXISTS students (\n",
    "    id INTEGER PRIMARY KEY AUTOINCREMENT,\n",
    "    name TEXT NOT NULL,\n",
    "    age INTEGER,\n",
    "    grade TEXT\n",
    ")\n",
    "''')\n",
    "conn.commit()\n",
    "print(\"Table created successfully.\")\n"
   ]
  },
  {
   "cell_type": "code",
   "execution_count": 4,
   "id": "06b9041b-7af7-4783-8ad8-f828abd9f4cb",
   "metadata": {},
   "outputs": [
    {
     "name": "stdout",
     "output_type": "stream",
     "text": [
      "Student inserted successfully.\n",
      "Student inserted successfully.\n"
     ]
    }
   ],
   "source": [
    "def insert_student(name, age, grade):\n",
    "    cursor.execute(\"INSERT INTO students (name, age, grade) VALUES (?, ?, ?)\", (name, age, grade))\n",
    "    conn.commit()\n",
    "    print(\"Student inserted successfully.\")\n",
    "\n",
    "\n",
    "insert_student('ankit', 20, 'A')\n",
    "insert_student('akshay', 19, 'B')\n"
   ]
  },
  {
   "cell_type": "code",
   "execution_count": 5,
   "id": "8b2975b9-cd08-44ee-94c0-ea113d9c29e0",
   "metadata": {},
   "outputs": [
    {
     "name": "stdout",
     "output_type": "stream",
     "text": [
      "(1, 'ankit', 20, 'A')\n",
      "(2, 'akshay', 19, 'B')\n"
     ]
    }
   ],
   "source": [
    "def fetch_students():\n",
    "    cursor.execute(\"SELECT * FROM students\")\n",
    "    rows = cursor.fetchall()\n",
    "    for row in rows:\n",
    "        print(row)\n",
    "\n",
    "\n",
    "fetch_students()"
   ]
  },
  {
   "cell_type": "code",
   "execution_count": null,
   "id": "af8054a7-97f8-46e4-ab4d-fc67e9353785",
   "metadata": {},
   "outputs": [],
   "source": []
  }
 ],
 "metadata": {
  "kernelspec": {
   "display_name": "Python [conda env:base] *",
   "language": "python",
   "name": "conda-base-py"
  },
  "language_info": {
   "codemirror_mode": {
    "name": "ipython",
    "version": 3
   },
   "file_extension": ".py",
   "mimetype": "text/x-python",
   "name": "python",
   "nbconvert_exporter": "python",
   "pygments_lexer": "ipython3",
   "version": "3.13.5"
  }
 },
 "nbformat": 4,
 "nbformat_minor": 5
}
