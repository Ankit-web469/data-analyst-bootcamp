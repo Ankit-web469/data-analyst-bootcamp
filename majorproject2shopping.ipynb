{
 "cells": [
  {
   "cell_type": "code",
   "execution_count": 1,
   "id": "0ea77721-1219-456e-bfbc-5931cc39bfb0",
   "metadata": {},
   "outputs": [],
   "source": [
    "import sqlite3\n",
    "\n",
    "conn = sqlite3.connect(\"billing.db\")\n",
    "cur = conn.cursor()\n",
    "\n",
    "# Product Table\n",
    "cur.execute('''\n",
    "CREATE TABLE IF NOT EXISTS products (\n",
    "    id INTEGER PRIMARY KEY AUTOINCREMENT,\n",
    "    name TEXT,\n",
    "    price REAL\n",
    ")\n",
    "''')\n",
    "\n",
    "# Cart Table\n",
    "cur.execute('''\n",
    "CREATE TABLE IF NOT EXISTS cart (\n",
    "    id INTEGER PRIMARY KEY AUTOINCREMENT,\n",
    "    product_id INTEGER,\n",
    "    quantity INTEGER\n",
    ")\n",
    "''')\n",
    "\n",
    "conn.commit()\n"
   ]
  },
  {
   "cell_type": "code",
   "execution_count": 2,
   "id": "7b90a773-ef37-4249-8508-b4ac9cb596c7",
   "metadata": {},
   "outputs": [
    {
     "name": "stdout",
     "output_type": "stream",
     "text": [
      "Product added successfully.\n",
      "Product added successfully.\n",
      "Product added successfully.\n",
      "Product added successfully.\n"
     ]
    }
   ],
   "source": [
    "def add_product(name, price):\n",
    "    cur.execute(\"INSERT INTO products (name, price) VALUES (?, ?)\", (name, price))\n",
    "    conn.commit()\n",
    "    print(\"Product added successfully.\")\n",
    "\n",
    "add_product(\"macbook\",\"150000\")\n",
    "add_product(\"redmi y20\",\"25000\")\n",
    "add_product(\"lenovo laptop\",\"100000\")\n",
    "add_product(\"camer\",\"50000\")"
   ]
  },
  {
   "cell_type": "code",
   "execution_count": 3,
   "id": "d3d7b9b1-fd1b-42c1-a18a-f928e114efdc",
   "metadata": {},
   "outputs": [],
   "source": [
    "def show_products():\n",
    "    cur.execute(\"SELECT * FROM products\")\n",
    "    products = cur.fetchall()\n",
    "    print(\"\\n Available Products:\")\n",
    "    for p in products:\n",
    "        print(f\"ID: {p[0]} | Name: {p[1]} | Price: ₹{p[2]}\")"
   ]
  },
  {
   "cell_type": "code",
   "execution_count": 4,
   "id": "dc651dc1-90db-4438-ba75-3e80bbbec936",
   "metadata": {},
   "outputs": [],
   "source": [
    "def purchase_product(product_id, qty):\n",
    "    cur.execute(\"INSERT INTO cart (product_id, quantity) VALUES (?, ?)\", (product_id, qty))\n",
    "    conn.commit()\n",
    "    print(\" Added to cart!\")\n",
    "\n",
    "\n"
   ]
  },
  {
   "cell_type": "code",
   "execution_count": 5,
   "id": "23dbbf42-0bfb-482f-8646-fdad91d1ad65",
   "metadata": {},
   "outputs": [],
   "source": [
    "def purchase_product(product_id, qty):\n",
    "    cur.execute(\"INSERT INTO cart (product_id, quantity) VALUES (?, ?)\", (product_id, qty))\n",
    "    conn.commit()\n",
    "    print(\"Added to cart!\")\n",
    "\n"
   ]
  },
  {
   "cell_type": "code",
   "execution_count": 6,
   "id": "d30d6396-e115-428b-8063-a479d7738862",
   "metadata": {},
   "outputs": [],
   "source": [
    "\n",
    "def show_bill():\n",
    "    cur.execute('''\n",
    "    SELECT products.name, products.price, cart.quantity, \n",
    "           (products.price * cart.quantity) as total \n",
    "    FROM cart \n",
    "    JOIN products ON products.id = cart.product_id\n",
    "    ''')\n",
    "    items = cur.fetchall()\n",
    "    grand_total = 0\n",
    "\n",
    "    print(\"\\n Final Bill:\")\n",
    "    for item in items:\n",
    "        name, price, qty, total = item\n",
    "        print(f\"{name} | ₹{price} x {qty} = ₹{total}\")\n",
    "        grand_total += total\n",
    "\n",
    "    print(f\"Grand Total: ₹{grand_total}\")"
   ]
  },
  {
   "cell_type": "code",
   "execution_count": 8,
   "id": "862834fd-aff7-4c81-838b-54eed54dc249",
   "metadata": {},
   "outputs": [
    {
     "name": "stdout",
     "output_type": "stream",
     "text": [
      "Added to cart!\n",
      "Added to cart!\n"
     ]
    }
   ],
   "source": [
    "purchase_product(1, 1)  \n",
    "purchase_product(2, 2)\n"
   ]
  },
  {
   "cell_type": "code",
   "execution_count": 10,
   "id": "3fdb0d02-3314-46d0-a760-230013eb4635",
   "metadata": {},
   "outputs": [
    {
     "name": "stdout",
     "output_type": "stream",
     "text": [
      "\n",
      " Final Bill:\n",
      "redmi y20 | ₹25000.0 x 1 = ₹25000.0\n",
      "macbook | ₹150000.0 x 2 = ₹300000.0\n",
      "Grand Total: ₹325000.0\n"
     ]
    }
   ],
   "source": [
    "show_bill()"
   ]
  },
  {
   "cell_type": "code",
   "execution_count": null,
   "id": "978eef2f-be1c-4b74-8fb7-d348c18d8960",
   "metadata": {},
   "outputs": [],
   "source": []
  }
 ],
 "metadata": {
  "kernelspec": {
   "display_name": "Python [conda env:base] *",
   "language": "python",
   "name": "conda-base-py"
  },
  "language_info": {
   "codemirror_mode": {
    "name": "ipython",
    "version": 3
   },
   "file_extension": ".py",
   "mimetype": "text/x-python",
   "name": "python",
   "nbconvert_exporter": "python",
   "pygments_lexer": "ipython3",
   "version": "3.13.5"
  }
 },
 "nbformat": 4,
 "nbformat_minor": 5
}
